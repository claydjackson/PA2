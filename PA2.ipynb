{
 "cells": [
  {
   "cell_type": "markdown",
   "id": "4fd2a85b",
   "metadata": {},
   "source": [
    "### PA2, Clay Jackson, Version 1, CS-150 Spring 2023"
   ]
  },
  {
   "cell_type": "code",
   "execution_count": 1,
   "id": "e0c5b64a",
   "metadata": {},
   "outputs": [
    {
     "name": "stdout",
     "output_type": "stream",
     "text": [
      "Enter an integer: 100\n"
     ]
    }
   ],
   "source": [
    "number1=int(input(\"Enter an integer: \"))"
   ]
  },
  {
   "cell_type": "code",
   "execution_count": 2,
   "id": "7a292a39",
   "metadata": {},
   "outputs": [
    {
     "name": "stdout",
     "output_type": "stream",
     "text": [
      "Enter a floating-point number: 55.5\n"
     ]
    }
   ],
   "source": [
    "number2=float(input(\"Enter a floating-point number: \"))"
   ]
  },
  {
   "cell_type": "code",
   "execution_count": 3,
   "id": "7dc86317",
   "metadata": {},
   "outputs": [
    {
     "name": "stdout",
     "output_type": "stream",
     "text": [
      "The sum is 155.5\n"
     ]
    }
   ],
   "source": [
    "print(\"The sum is\",number1+number2)"
   ]
  },
  {
   "cell_type": "code",
   "execution_count": 4,
   "id": "f487fcdc",
   "metadata": {},
   "outputs": [
    {
     "name": "stdout",
     "output_type": "stream",
     "text": [
      "The difference is 44.5\n"
     ]
    }
   ],
   "source": [
    "print(\"The difference is\", number1-number2)"
   ]
  },
  {
   "cell_type": "code",
   "execution_count": 5,
   "id": "95681d7e",
   "metadata": {},
   "outputs": [
    {
     "name": "stdout",
     "output_type": "stream",
     "text": [
      "The product is 5550.0\n"
     ]
    }
   ],
   "source": [
    "print(\"The product is\",number1*number2)"
   ]
  },
  {
   "cell_type": "code",
   "execution_count": 6,
   "id": "4bd1ef75",
   "metadata": {},
   "outputs": [
    {
     "name": "stdout",
     "output_type": "stream",
     "text": [
      "The quotient is 1.8018018018018018\n"
     ]
    }
   ],
   "source": [
    "print(\"The quotient is\", number1/number2)"
   ]
  },
  {
   "cell_type": "code",
   "execution_count": 7,
   "id": "9a6b8a6e",
   "metadata": {},
   "outputs": [
    {
     "name": "stdout",
     "output_type": "stream",
     "text": [
      "The type for the result is <class 'float'>\n"
     ]
    }
   ],
   "source": [
    "print(\"The type for the result is\",type(number1/number2) )"
   ]
  },
  {
   "cell_type": "code",
   "execution_count": null,
   "id": "e89b08a9",
   "metadata": {},
   "outputs": [],
   "source": []
  }
 ],
 "metadata": {
  "kernelspec": {
   "display_name": "Python 3 (ipykernel)",
   "language": "python",
   "name": "python3"
  },
  "language_info": {
   "codemirror_mode": {
    "name": "ipython",
    "version": 3
   },
   "file_extension": ".py",
   "mimetype": "text/x-python",
   "name": "python",
   "nbconvert_exporter": "python",
   "pygments_lexer": "ipython3",
   "version": "3.9.13"
  }
 },
 "nbformat": 4,
 "nbformat_minor": 5
}
